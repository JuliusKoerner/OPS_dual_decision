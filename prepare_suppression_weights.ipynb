{
 "cells": [
  {
   "cell_type": "code",
   "execution_count": 6,
   "metadata": {},
   "outputs": [],
   "source": [
    "import torch\n",
    "from detectron2.data.datasets.builtin_meta import COCO_CATEGORIES\n",
    "\n",
    "\n",
    "path = \"/nfs/students/koerner/checkpoints/suppression_K05.pth\""
   ]
  },
  {
   "cell_type": "code",
   "execution_count": 2,
   "metadata": {},
   "outputs": [
    {
     "name": "stderr",
     "output_type": "stream",
     "text": [
      "/tmp/ipykernel_4010462/644287830.py:1: FutureWarning: You are using `torch.load` with `weights_only=False` (the current default value), which uses the default pickle module implicitly. It is possible to construct malicious pickle data which will execute arbitrary code during unpickling (See https://github.com/pytorch/pytorch/blob/main/SECURITY.md#untrusted-models for more details). In a future release, the default value for `weights_only` will be flipped to `True`. This limits the functions that could be executed during unpickling. Arbitrary objects will no longer be allowed to be loaded via this mode unless they are explicitly allowlisted by the user via `torch.serialization.add_safe_globals`. We recommend you start setting `weights_only=True` for any use case where you don't have full control of the loaded file. Please open an issue on GitHub for any issues related to this experimental feature.\n",
      "  weights = torch.load(path)\n"
     ]
    }
   ],
   "source": [
    "weights = torch.load(path)"
   ]
  },
  {
   "cell_type": "code",
   "execution_count": 5,
   "metadata": {},
   "outputs": [
    {
     "data": {
      "text/plain": [
       "odict_keys(['pixel_mean', 'pixel_std', 'backbone.fpn_lateral2.weight', 'backbone.fpn_lateral2.bias', 'backbone.fpn_output2.weight', 'backbone.fpn_output2.bias', 'backbone.fpn_lateral3.weight', 'backbone.fpn_lateral3.bias', 'backbone.fpn_output3.weight', 'backbone.fpn_output3.bias', 'backbone.fpn_lateral4.weight', 'backbone.fpn_lateral4.bias', 'backbone.fpn_output4.weight', 'backbone.fpn_output4.bias', 'backbone.fpn_lateral5.weight', 'backbone.fpn_lateral5.bias', 'backbone.fpn_output5.weight', 'backbone.fpn_output5.bias', 'backbone.bottom_up.stem.conv1.weight', 'backbone.bottom_up.stem.conv1.norm.weight', 'backbone.bottom_up.stem.conv1.norm.bias', 'backbone.bottom_up.stem.conv1.norm.running_mean', 'backbone.bottom_up.stem.conv1.norm.running_var', 'backbone.bottom_up.res2.0.shortcut.weight', 'backbone.bottom_up.res2.0.shortcut.norm.weight', 'backbone.bottom_up.res2.0.shortcut.norm.bias', 'backbone.bottom_up.res2.0.shortcut.norm.running_mean', 'backbone.bottom_up.res2.0.shortcut.norm.running_var', 'backbone.bottom_up.res2.0.conv1.weight', 'backbone.bottom_up.res2.0.conv1.norm.weight', 'backbone.bottom_up.res2.0.conv1.norm.bias', 'backbone.bottom_up.res2.0.conv1.norm.running_mean', 'backbone.bottom_up.res2.0.conv1.norm.running_var', 'backbone.bottom_up.res2.0.conv2.weight', 'backbone.bottom_up.res2.0.conv2.norm.weight', 'backbone.bottom_up.res2.0.conv2.norm.bias', 'backbone.bottom_up.res2.0.conv2.norm.running_mean', 'backbone.bottom_up.res2.0.conv2.norm.running_var', 'backbone.bottom_up.res2.0.conv3.weight', 'backbone.bottom_up.res2.0.conv3.norm.weight', 'backbone.bottom_up.res2.0.conv3.norm.bias', 'backbone.bottom_up.res2.0.conv3.norm.running_mean', 'backbone.bottom_up.res2.0.conv3.norm.running_var', 'backbone.bottom_up.res2.1.conv1.weight', 'backbone.bottom_up.res2.1.conv1.norm.weight', 'backbone.bottom_up.res2.1.conv1.norm.bias', 'backbone.bottom_up.res2.1.conv1.norm.running_mean', 'backbone.bottom_up.res2.1.conv1.norm.running_var', 'backbone.bottom_up.res2.1.conv2.weight', 'backbone.bottom_up.res2.1.conv2.norm.weight', 'backbone.bottom_up.res2.1.conv2.norm.bias', 'backbone.bottom_up.res2.1.conv2.norm.running_mean', 'backbone.bottom_up.res2.1.conv2.norm.running_var', 'backbone.bottom_up.res2.1.conv3.weight', 'backbone.bottom_up.res2.1.conv3.norm.weight', 'backbone.bottom_up.res2.1.conv3.norm.bias', 'backbone.bottom_up.res2.1.conv3.norm.running_mean', 'backbone.bottom_up.res2.1.conv3.norm.running_var', 'backbone.bottom_up.res2.2.conv1.weight', 'backbone.bottom_up.res2.2.conv1.norm.weight', 'backbone.bottom_up.res2.2.conv1.norm.bias', 'backbone.bottom_up.res2.2.conv1.norm.running_mean', 'backbone.bottom_up.res2.2.conv1.norm.running_var', 'backbone.bottom_up.res2.2.conv2.weight', 'backbone.bottom_up.res2.2.conv2.norm.weight', 'backbone.bottom_up.res2.2.conv2.norm.bias', 'backbone.bottom_up.res2.2.conv2.norm.running_mean', 'backbone.bottom_up.res2.2.conv2.norm.running_var', 'backbone.bottom_up.res2.2.conv3.weight', 'backbone.bottom_up.res2.2.conv3.norm.weight', 'backbone.bottom_up.res2.2.conv3.norm.bias', 'backbone.bottom_up.res2.2.conv3.norm.running_mean', 'backbone.bottom_up.res2.2.conv3.norm.running_var', 'backbone.bottom_up.res3.0.shortcut.weight', 'backbone.bottom_up.res3.0.shortcut.norm.weight', 'backbone.bottom_up.res3.0.shortcut.norm.bias', 'backbone.bottom_up.res3.0.shortcut.norm.running_mean', 'backbone.bottom_up.res3.0.shortcut.norm.running_var', 'backbone.bottom_up.res3.0.conv1.weight', 'backbone.bottom_up.res3.0.conv1.norm.weight', 'backbone.bottom_up.res3.0.conv1.norm.bias', 'backbone.bottom_up.res3.0.conv1.norm.running_mean', 'backbone.bottom_up.res3.0.conv1.norm.running_var', 'backbone.bottom_up.res3.0.conv2.weight', 'backbone.bottom_up.res3.0.conv2.norm.weight', 'backbone.bottom_up.res3.0.conv2.norm.bias', 'backbone.bottom_up.res3.0.conv2.norm.running_mean', 'backbone.bottom_up.res3.0.conv2.norm.running_var', 'backbone.bottom_up.res3.0.conv3.weight', 'backbone.bottom_up.res3.0.conv3.norm.weight', 'backbone.bottom_up.res3.0.conv3.norm.bias', 'backbone.bottom_up.res3.0.conv3.norm.running_mean', 'backbone.bottom_up.res3.0.conv3.norm.running_var', 'backbone.bottom_up.res3.1.conv1.weight', 'backbone.bottom_up.res3.1.conv1.norm.weight', 'backbone.bottom_up.res3.1.conv1.norm.bias', 'backbone.bottom_up.res3.1.conv1.norm.running_mean', 'backbone.bottom_up.res3.1.conv1.norm.running_var', 'backbone.bottom_up.res3.1.conv2.weight', 'backbone.bottom_up.res3.1.conv2.norm.weight', 'backbone.bottom_up.res3.1.conv2.norm.bias', 'backbone.bottom_up.res3.1.conv2.norm.running_mean', 'backbone.bottom_up.res3.1.conv2.norm.running_var', 'backbone.bottom_up.res3.1.conv3.weight', 'backbone.bottom_up.res3.1.conv3.norm.weight', 'backbone.bottom_up.res3.1.conv3.norm.bias', 'backbone.bottom_up.res3.1.conv3.norm.running_mean', 'backbone.bottom_up.res3.1.conv3.norm.running_var', 'backbone.bottom_up.res3.2.conv1.weight', 'backbone.bottom_up.res3.2.conv1.norm.weight', 'backbone.bottom_up.res3.2.conv1.norm.bias', 'backbone.bottom_up.res3.2.conv1.norm.running_mean', 'backbone.bottom_up.res3.2.conv1.norm.running_var', 'backbone.bottom_up.res3.2.conv2.weight', 'backbone.bottom_up.res3.2.conv2.norm.weight', 'backbone.bottom_up.res3.2.conv2.norm.bias', 'backbone.bottom_up.res3.2.conv2.norm.running_mean', 'backbone.bottom_up.res3.2.conv2.norm.running_var', 'backbone.bottom_up.res3.2.conv3.weight', 'backbone.bottom_up.res3.2.conv3.norm.weight', 'backbone.bottom_up.res3.2.conv3.norm.bias', 'backbone.bottom_up.res3.2.conv3.norm.running_mean', 'backbone.bottom_up.res3.2.conv3.norm.running_var', 'backbone.bottom_up.res3.3.conv1.weight', 'backbone.bottom_up.res3.3.conv1.norm.weight', 'backbone.bottom_up.res3.3.conv1.norm.bias', 'backbone.bottom_up.res3.3.conv1.norm.running_mean', 'backbone.bottom_up.res3.3.conv1.norm.running_var', 'backbone.bottom_up.res3.3.conv2.weight', 'backbone.bottom_up.res3.3.conv2.norm.weight', 'backbone.bottom_up.res3.3.conv2.norm.bias', 'backbone.bottom_up.res3.3.conv2.norm.running_mean', 'backbone.bottom_up.res3.3.conv2.norm.running_var', 'backbone.bottom_up.res3.3.conv3.weight', 'backbone.bottom_up.res3.3.conv3.norm.weight', 'backbone.bottom_up.res3.3.conv3.norm.bias', 'backbone.bottom_up.res3.3.conv3.norm.running_mean', 'backbone.bottom_up.res3.3.conv3.norm.running_var', 'backbone.bottom_up.res4.0.shortcut.weight', 'backbone.bottom_up.res4.0.shortcut.norm.weight', 'backbone.bottom_up.res4.0.shortcut.norm.bias', 'backbone.bottom_up.res4.0.shortcut.norm.running_mean', 'backbone.bottom_up.res4.0.shortcut.norm.running_var', 'backbone.bottom_up.res4.0.conv1.weight', 'backbone.bottom_up.res4.0.conv1.norm.weight', 'backbone.bottom_up.res4.0.conv1.norm.bias', 'backbone.bottom_up.res4.0.conv1.norm.running_mean', 'backbone.bottom_up.res4.0.conv1.norm.running_var', 'backbone.bottom_up.res4.0.conv2.weight', 'backbone.bottom_up.res4.0.conv2.norm.weight', 'backbone.bottom_up.res4.0.conv2.norm.bias', 'backbone.bottom_up.res4.0.conv2.norm.running_mean', 'backbone.bottom_up.res4.0.conv2.norm.running_var', 'backbone.bottom_up.res4.0.conv3.weight', 'backbone.bottom_up.res4.0.conv3.norm.weight', 'backbone.bottom_up.res4.0.conv3.norm.bias', 'backbone.bottom_up.res4.0.conv3.norm.running_mean', 'backbone.bottom_up.res4.0.conv3.norm.running_var', 'backbone.bottom_up.res4.1.conv1.weight', 'backbone.bottom_up.res4.1.conv1.norm.weight', 'backbone.bottom_up.res4.1.conv1.norm.bias', 'backbone.bottom_up.res4.1.conv1.norm.running_mean', 'backbone.bottom_up.res4.1.conv1.norm.running_var', 'backbone.bottom_up.res4.1.conv2.weight', 'backbone.bottom_up.res4.1.conv2.norm.weight', 'backbone.bottom_up.res4.1.conv2.norm.bias', 'backbone.bottom_up.res4.1.conv2.norm.running_mean', 'backbone.bottom_up.res4.1.conv2.norm.running_var', 'backbone.bottom_up.res4.1.conv3.weight', 'backbone.bottom_up.res4.1.conv3.norm.weight', 'backbone.bottom_up.res4.1.conv3.norm.bias', 'backbone.bottom_up.res4.1.conv3.norm.running_mean', 'backbone.bottom_up.res4.1.conv3.norm.running_var', 'backbone.bottom_up.res4.2.conv1.weight', 'backbone.bottom_up.res4.2.conv1.norm.weight', 'backbone.bottom_up.res4.2.conv1.norm.bias', 'backbone.bottom_up.res4.2.conv1.norm.running_mean', 'backbone.bottom_up.res4.2.conv1.norm.running_var', 'backbone.bottom_up.res4.2.conv2.weight', 'backbone.bottom_up.res4.2.conv2.norm.weight', 'backbone.bottom_up.res4.2.conv2.norm.bias', 'backbone.bottom_up.res4.2.conv2.norm.running_mean', 'backbone.bottom_up.res4.2.conv2.norm.running_var', 'backbone.bottom_up.res4.2.conv3.weight', 'backbone.bottom_up.res4.2.conv3.norm.weight', 'backbone.bottom_up.res4.2.conv3.norm.bias', 'backbone.bottom_up.res4.2.conv3.norm.running_mean', 'backbone.bottom_up.res4.2.conv3.norm.running_var', 'backbone.bottom_up.res4.3.conv1.weight', 'backbone.bottom_up.res4.3.conv1.norm.weight', 'backbone.bottom_up.res4.3.conv1.norm.bias', 'backbone.bottom_up.res4.3.conv1.norm.running_mean', 'backbone.bottom_up.res4.3.conv1.norm.running_var', 'backbone.bottom_up.res4.3.conv2.weight', 'backbone.bottom_up.res4.3.conv2.norm.weight', 'backbone.bottom_up.res4.3.conv2.norm.bias', 'backbone.bottom_up.res4.3.conv2.norm.running_mean', 'backbone.bottom_up.res4.3.conv2.norm.running_var', 'backbone.bottom_up.res4.3.conv3.weight', 'backbone.bottom_up.res4.3.conv3.norm.weight', 'backbone.bottom_up.res4.3.conv3.norm.bias', 'backbone.bottom_up.res4.3.conv3.norm.running_mean', 'backbone.bottom_up.res4.3.conv3.norm.running_var', 'backbone.bottom_up.res4.4.conv1.weight', 'backbone.bottom_up.res4.4.conv1.norm.weight', 'backbone.bottom_up.res4.4.conv1.norm.bias', 'backbone.bottom_up.res4.4.conv1.norm.running_mean', 'backbone.bottom_up.res4.4.conv1.norm.running_var', 'backbone.bottom_up.res4.4.conv2.weight', 'backbone.bottom_up.res4.4.conv2.norm.weight', 'backbone.bottom_up.res4.4.conv2.norm.bias', 'backbone.bottom_up.res4.4.conv2.norm.running_mean', 'backbone.bottom_up.res4.4.conv2.norm.running_var', 'backbone.bottom_up.res4.4.conv3.weight', 'backbone.bottom_up.res4.4.conv3.norm.weight', 'backbone.bottom_up.res4.4.conv3.norm.bias', 'backbone.bottom_up.res4.4.conv3.norm.running_mean', 'backbone.bottom_up.res4.4.conv3.norm.running_var', 'backbone.bottom_up.res4.5.conv1.weight', 'backbone.bottom_up.res4.5.conv1.norm.weight', 'backbone.bottom_up.res4.5.conv1.norm.bias', 'backbone.bottom_up.res4.5.conv1.norm.running_mean', 'backbone.bottom_up.res4.5.conv1.norm.running_var', 'backbone.bottom_up.res4.5.conv2.weight', 'backbone.bottom_up.res4.5.conv2.norm.weight', 'backbone.bottom_up.res4.5.conv2.norm.bias', 'backbone.bottom_up.res4.5.conv2.norm.running_mean', 'backbone.bottom_up.res4.5.conv2.norm.running_var', 'backbone.bottom_up.res4.5.conv3.weight', 'backbone.bottom_up.res4.5.conv3.norm.weight', 'backbone.bottom_up.res4.5.conv3.norm.bias', 'backbone.bottom_up.res4.5.conv3.norm.running_mean', 'backbone.bottom_up.res4.5.conv3.norm.running_var', 'backbone.bottom_up.res5.0.shortcut.weight', 'backbone.bottom_up.res5.0.shortcut.norm.weight', 'backbone.bottom_up.res5.0.shortcut.norm.bias', 'backbone.bottom_up.res5.0.shortcut.norm.running_mean', 'backbone.bottom_up.res5.0.shortcut.norm.running_var', 'backbone.bottom_up.res5.0.conv1.weight', 'backbone.bottom_up.res5.0.conv1.norm.weight', 'backbone.bottom_up.res5.0.conv1.norm.bias', 'backbone.bottom_up.res5.0.conv1.norm.running_mean', 'backbone.bottom_up.res5.0.conv1.norm.running_var', 'backbone.bottom_up.res5.0.conv2.weight', 'backbone.bottom_up.res5.0.conv2.norm.weight', 'backbone.bottom_up.res5.0.conv2.norm.bias', 'backbone.bottom_up.res5.0.conv2.norm.running_mean', 'backbone.bottom_up.res5.0.conv2.norm.running_var', 'backbone.bottom_up.res5.0.conv3.weight', 'backbone.bottom_up.res5.0.conv3.norm.weight', 'backbone.bottom_up.res5.0.conv3.norm.bias', 'backbone.bottom_up.res5.0.conv3.norm.running_mean', 'backbone.bottom_up.res5.0.conv3.norm.running_var', 'backbone.bottom_up.res5.1.conv1.weight', 'backbone.bottom_up.res5.1.conv1.norm.weight', 'backbone.bottom_up.res5.1.conv1.norm.bias', 'backbone.bottom_up.res5.1.conv1.norm.running_mean', 'backbone.bottom_up.res5.1.conv1.norm.running_var', 'backbone.bottom_up.res5.1.conv2.weight', 'backbone.bottom_up.res5.1.conv2.norm.weight', 'backbone.bottom_up.res5.1.conv2.norm.bias', 'backbone.bottom_up.res5.1.conv2.norm.running_mean', 'backbone.bottom_up.res5.1.conv2.norm.running_var', 'backbone.bottom_up.res5.1.conv3.weight', 'backbone.bottom_up.res5.1.conv3.norm.weight', 'backbone.bottom_up.res5.1.conv3.norm.bias', 'backbone.bottom_up.res5.1.conv3.norm.running_mean', 'backbone.bottom_up.res5.1.conv3.norm.running_var', 'backbone.bottom_up.res5.2.conv1.weight', 'backbone.bottom_up.res5.2.conv1.norm.weight', 'backbone.bottom_up.res5.2.conv1.norm.bias', 'backbone.bottom_up.res5.2.conv1.norm.running_mean', 'backbone.bottom_up.res5.2.conv1.norm.running_var', 'backbone.bottom_up.res5.2.conv2.weight', 'backbone.bottom_up.res5.2.conv2.norm.weight', 'backbone.bottom_up.res5.2.conv2.norm.bias', 'backbone.bottom_up.res5.2.conv2.norm.running_mean', 'backbone.bottom_up.res5.2.conv2.norm.running_var', 'backbone.bottom_up.res5.2.conv3.weight', 'backbone.bottom_up.res5.2.conv3.norm.weight', 'backbone.bottom_up.res5.2.conv3.norm.bias', 'backbone.bottom_up.res5.2.conv3.norm.running_mean', 'backbone.bottom_up.res5.2.conv3.norm.running_var', 'proposal_generator.rpn_head.conv.weight', 'proposal_generator.rpn_head.conv.bias', 'proposal_generator.rpn_head.objectness_logits.weight', 'proposal_generator.rpn_head.objectness_logits.bias', 'proposal_generator.rpn_head.anchor_deltas.weight', 'proposal_generator.rpn_head.anchor_deltas.bias', 'proposal_generator.anchor_generator.cell_anchors.0', 'proposal_generator.anchor_generator.cell_anchors.1', 'proposal_generator.anchor_generator.cell_anchors.2', 'proposal_generator.anchor_generator.cell_anchors.3', 'proposal_generator.anchor_generator.cell_anchors.4', 'roi_heads.box_head.fc1.weight', 'roi_heads.box_head.fc1.bias', 'roi_heads.box_head.fc2.weight', 'roi_heads.box_head.fc2.bias', 'roi_heads.box_predictor.cls_score.weight', 'roi_heads.box_predictor.cls_score.bias', 'roi_heads.box_predictor.bbox_pred.weight', 'roi_heads.box_predictor.bbox_pred.bias', 'roi_heads.box_predictor.cls_weight.weight', 'roi_heads.mask_head.mask_fcn1.weight', 'roi_heads.mask_head.mask_fcn1.bias', 'roi_heads.mask_head.mask_fcn2.weight', 'roi_heads.mask_head.mask_fcn2.bias', 'roi_heads.mask_head.mask_fcn3.weight', 'roi_heads.mask_head.mask_fcn3.bias', 'roi_heads.mask_head.mask_fcn4.weight', 'roi_heads.mask_head.mask_fcn4.bias', 'roi_heads.mask_head.deconv.weight', 'roi_heads.mask_head.deconv.bias', 'roi_heads.mask_head.predictor.weight', 'roi_heads.mask_head.predictor.bias', 'sem_seg_head.p2.0.weight', 'sem_seg_head.p2.0.norm.weight', 'sem_seg_head.p2.0.norm.bias', 'sem_seg_head.p3.0.weight', 'sem_seg_head.p3.0.norm.weight', 'sem_seg_head.p3.0.norm.bias', 'sem_seg_head.p4.0.weight', 'sem_seg_head.p4.0.norm.weight', 'sem_seg_head.p4.0.norm.bias', 'sem_seg_head.p4.2.weight', 'sem_seg_head.p4.2.norm.weight', 'sem_seg_head.p4.2.norm.bias', 'sem_seg_head.p5.0.weight', 'sem_seg_head.p5.0.norm.weight', 'sem_seg_head.p5.0.norm.bias', 'sem_seg_head.p5.2.weight', 'sem_seg_head.p5.2.norm.weight', 'sem_seg_head.p5.2.norm.bias', 'sem_seg_head.p5.4.weight', 'sem_seg_head.p5.4.norm.weight', 'sem_seg_head.p5.4.norm.bias', 'sem_seg_head.predictor.weight', 'sem_seg_head.predictor.bias'])"
      ]
     },
     "execution_count": 5,
     "metadata": {},
     "output_type": "execute_result"
    }
   ],
   "source": [
    "weights[\"model\"].keys()\n"
   ]
  },
  {
   "cell_type": "markdown",
   "metadata": {},
   "source": [
    "WARNING [01/27 06:34:09 fvcore.common.checkpoint]: Skip loading parameter 'roi_heads.box_predictor.cls_score.weight' to the model due to incompatible shapes: (205, 1024) in the checkpoint but (189, 1024) in the model! You might want to double check if this is expected.\n",
    "WARNING [01/27 06:34:09 fvcore.common.checkpoint]: Skip loading parameter 'roi_heads.box_predictor.cls_score.bias' to the model due to incompatible shapes: (205,) in the checkpoint but (189,) in the model! You might want to double check if this is expected."
   ]
  },
  {
   "cell_type": "code",
   "execution_count": 7,
   "metadata": {},
   "outputs": [
    {
     "data": {
      "text/plain": [
       "133"
      ]
     },
     "execution_count": 7,
     "metadata": {},
     "output_type": "execute_result"
    }
   ],
   "source": [
    "COCO_CATEGORIES.__len__()\n"
   ]
  },
  {
   "cell_type": "code",
   "execution_count": null,
   "metadata": {},
   "outputs": [],
   "source": [
    "unmatched_keys = [\"roi_heads.box_predictor.cls_score.bias\"]"
   ]
  },
  {
   "cell_type": "code",
   "execution_count": null,
   "metadata": {},
   "outputs": [],
   "source": [
    "longtail_names = [\n",
    "    \"hair drier\",\n",
    "    \"toaster\",\n",
    "    \"parking meter\",\n",
    "    \"bear\",\n",
    "    \"scissors\",\n",
    "    \"microwave\",\n",
    "    \"fire hydrant\",\n",
    "    \"toothbrush\",\n",
    "    \"stop sign\",\n",
    "    \"mouse\",\n",
    "    \"refrigerator\",\n",
    "    \"snowboard\",\n",
    "    \"frisbee\",\n",
    "    \"keyboard\",\n",
    "    \"hot dog\",\n",
    "    \"baseball bat\"\n",
    "]"
   ]
  },
  {
   "cell_type": "code",
   "execution_count": null,
   "metadata": {},
   "outputs": [],
   "source": []
  }
 ],
 "metadata": {
  "kernelspec": {
   "display_name": "eopsn",
   "language": "python",
   "name": "python3"
  },
  "language_info": {
   "codemirror_mode": {
    "name": "ipython",
    "version": 3
   },
   "file_extension": ".py",
   "mimetype": "text/x-python",
   "name": "python",
   "nbconvert_exporter": "python",
   "pygments_lexer": "ipython3",
   "version": "3.11.10"
  }
 },
 "nbformat": 4,
 "nbformat_minor": 2
}
